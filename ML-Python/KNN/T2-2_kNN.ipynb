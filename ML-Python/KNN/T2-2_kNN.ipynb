{
 "cells": [
  {
   "cell_type": "markdown",
   "id": "46ddefb7-ddcf-4daa-ba9c-2d3348167f96",
   "metadata": {},
   "source": [
    "# T2-2 kNN, autos\n",
    "Using included autos dataset (autos-clean.csv) predict the city-mpg of gas powered cars. Following features should be used in prediction:\n",
    "- engine-size\n",
    "- horsepower\n",
    "- curb-weight\n",
    "- length\n",
    "- highway-mpg\n",
    "\n",
    "Prediction algorithm in this case should be kNN with k value of 5. \n",
    "Use train_test_split function with test_size=0.3 and random_state=100.\n",
    "\n",
    "Evaluate the prediction model by calculating values of R-squared, MAE, MSE and RMSE. \n",
    "Draw a scatter plot from test set prediction and true values."
   ]
  },
  {
   "cell_type": "code",
   "execution_count": 114,
   "id": "6ca7408b-4abd-46e6-ab58-93844d3ebc51",
   "metadata": {},
   "outputs": [],
   "source": [
    "# imports\n",
    "import numpy as np\n",
    "import pandas as pd\n",
    "\n",
    "from sklearn.neighbors import KNeighborsClassifier\n",
    "from sklearn.model_selection import train_test_split \n",
    "from sklearn import metrics\n",
    "from sklearn import preprocessing\n",
    "\n",
    "import matplotlib.pyplot as plt\n",
    "import seaborn as sns\n",
    "%matplotlib inline"
   ]
  },
  {
   "cell_type": "code",
   "execution_count": 115,
   "id": "0b2d7961-7081-4b65-94fc-fb85e20c34c2",
   "metadata": {},
   "outputs": [
    {
     "name": "stdout",
     "output_type": "stream",
     "text": [
      "Index(['symboling', 'normalized-losses', 'make', 'fuel-type', 'aspiration',\n",
      "       'num-of-doors', 'body-style', 'drive-wheels', 'engine-location',\n",
      "       'wheel-base', 'length', 'width', 'height', 'curb-weight', 'engine-type',\n",
      "       'num-of-cylinders', 'engine-size', 'fuel-system', 'bore', 'stroke',\n",
      "       'compression-ratio', 'horsepower', 'peak-rpm', 'city-mpg',\n",
      "       'highway-mpg', 'price'],\n",
      "      dtype='object')\n"
     ]
    }
   ],
   "source": [
    "# load data\n",
    "data = pd.read_csv(\"autos.clean.csv\")\n",
    "# Select only Gas-powered cars\n",
    "autos = data[data['fuel-type'] == 'gas']\n",
    "\n",
    "print(autos.columns)"
   ]
  },
  {
   "cell_type": "markdown",
   "id": "432a3f1c-179d-4b8e-8df1-20a3e468853b",
   "metadata": {},
   "source": [
    "### Select features"
   ]
  },
  {
   "cell_type": "code",
   "execution_count": 117,
   "id": "6a0383c3-9d2d-40a4-9c0e-dece71e2fa95",
   "metadata": {},
   "outputs": [
    {
     "data": {
      "text/plain": [
       "engine-size    0\n",
       "horsepower     0\n",
       "curb-weight    0\n",
       "length         0\n",
       "highway-mpg    0\n",
       "dtype: int64"
      ]
     },
     "execution_count": 117,
     "metadata": {},
     "output_type": "execute_result"
    }
   ],
   "source": [
    "features = ['engine-size', 'horsepower', 'curb-weight', 'length', 'highway-mpg']\n",
    "target = 'city-mpg'\n",
    "\n",
    "X = autos[features]\n",
    "y = autos[target]\n",
    "# Check if there is null values in relevant columns\n",
    "X.isnull().sum()"
   ]
  },
  {
   "cell_type": "markdown",
   "id": "b27e1d1c-3c6d-43f4-a94c-a98fcf1826c1",
   "metadata": {},
   "source": [
    "### Split the data\n",
    "Use train_test_split function with test_size=0.3 and random_state=100"
   ]
  },
  {
   "cell_type": "code",
   "execution_count": 119,
   "id": "32e90c57-31d0-4aa8-afd0-8c29912983cc",
   "metadata": {},
   "outputs": [
    {
     "data": {
      "text/plain": [
       "((126, 5), (55, 5))"
      ]
     },
     "execution_count": 119,
     "metadata": {},
     "output_type": "execute_result"
    }
   ],
   "source": [
    "X_train, X_test, y_train, y_test = train_test_split(X, y, test_size=0.3, random_state=100)\n",
    "X_train.shape, X_test.shape"
   ]
  },
  {
   "cell_type": "markdown",
   "id": "41bc5a13-4ea3-432f-ae61-9c6abc0401f3",
   "metadata": {},
   "source": [
    "### Scale input set"
   ]
  },
  {
   "cell_type": "code",
   "execution_count": 121,
   "id": "7c05b92c-099a-4c4f-b25b-54effae48f7f",
   "metadata": {},
   "outputs": [],
   "source": [
    "scaler = preprocessing.StandardScaler()\n",
    "\n",
    "use_scaler = True\n",
    "if use_scaler:\n",
    "    X_train = scaler.fit_transform(X_train)\n",
    "    X_test = scaler.transform(X_test)"
   ]
  },
  {
   "cell_type": "markdown",
   "id": "fc758443-9d3b-45fe-8773-bff02bee9733",
   "metadata": {},
   "source": [
    "### Create and train the kNN model and predict on test set\n",
    "Prediction algorithm in this case should be kNN with k value of 5"
   ]
  },
  {
   "cell_type": "code",
   "execution_count": 123,
   "id": "7ef35493-ae66-42cd-8b3d-f13412d3fd88",
   "metadata": {},
   "outputs": [],
   "source": [
    "knn = KNeighborsClassifier(n_neighbors=5)\n",
    "knn.fit(X_train, y_train)\n",
    "y_pred = knn.predict(X_test)"
   ]
  },
  {
   "cell_type": "markdown",
   "id": "abe9697d-24e0-4eb4-b572-4b4e5628da6e",
   "metadata": {},
   "source": [
    "### Evaluate the model\n",
    "Evaluate the prediction model by calculating values of R-squared, MAE, MSE and RMSE."
   ]
  },
  {
   "cell_type": "code",
   "execution_count": 125,
   "id": "e630b44e-2a7f-4bb1-a2db-8698077e5fc9",
   "metadata": {},
   "outputs": [
    {
     "name": "stdout",
     "output_type": "stream",
     "text": [
      "R-squared: 0.8443357783211084\n",
      "MAE: 1.6363636363636365\n",
      "MSE: 6.945454545454545\n",
      "RMSE: 2.6354230296964745\n"
     ]
    }
   ],
   "source": [
    "r2 = metrics.r2_score(y_test, y_pred)\n",
    "mae = metrics.mean_absolute_error(y_test, y_pred)\n",
    "mse = metrics.mean_squared_error(y_test, y_pred)\n",
    "rmse = np.sqrt(mse)\n",
    "print(\"R-squared:\", r2)\n",
    "print(\"MAE:\", mae)\n",
    "print(\"MSE:\", mse)\n",
    "print(\"RMSE:\", rmse)"
   ]
  },
  {
   "cell_type": "markdown",
   "id": "be768dae-00a3-4d71-97b2-8afc2f8acab0",
   "metadata": {},
   "source": [
    "### Draw a scatter plot from test set prediction and true values"
   ]
  },
  {
   "cell_type": "code",
   "execution_count": 127,
   "id": "2a4cea63-ba7f-40c4-8287-fb2de9be3846",
   "metadata": {},
   "outputs": [
    {
     "data": {
      "image/png": "[encoded data removed]",
      "text/plain": [
       "<Figure size 800x600 with 1 Axes>"
      ]
     },
     "metadata": {},
     "output_type": "display_data"
    }
   ],
   "source": [
    "plt.figure(figsize=(8,6))\n",
    "plt.scatter(y_test, y_pred, alpha=0.7)\n",
    "plt.xlabel(\"True City MPG\")\n",
    "plt.ylabel(\"Predicted City MPG\")\n",
    "plt.title(\"True vs Predicted City MPG\")\n",
    "plt.grid(True)\n",
    "plt.show()"
   ]
  },
  {
   "cell_type": "markdown",
   "id": "a93abba1-f098-4c0a-ad03-1ecb60dbe70b",
   "metadata": {},
   "source": [
    "## Definition case B\n",
    "Using included autos dataset (autos-clean.csv) predict feature drive-wheels\n",
    "using features: 'engine-size', 'curb-weight'\n",
    "\n",
    "Evaluate the predicted model using accuracy of the test_set.\n",
    "Visualize the results using confusion matrix."
   ]
  },
  {
   "cell_type": "code",
   "execution_count": 129,
   "id": "0447c022-4e41-4b60-8410-6da0efb01848",
   "metadata": {},
   "outputs": [
    {
     "data": {
      "text/plain": [
       "engine-size    0\n",
       "curb-weight    0\n",
       "dtype: int64"
      ]
     },
     "execution_count": 129,
     "metadata": {},
     "output_type": "execute_result"
    }
   ],
   "source": [
    "# Select features, data is now all the cars, not only gas powered\n",
    "features = ['engine-size', 'curb-weight']\n",
    "target = 'drive-wheels'\n",
    "\n",
    "X = autos[features]\n",
    "y = autos[target]\n",
    "# Check if there is null values in relevant columns\n",
    "X.isnull().sum()"
   ]
  },
  {
   "cell_type": "markdown",
   "id": "fd95f481-c85d-45c9-94d6-5dc8ed158ba5",
   "metadata": {},
   "source": [
    "### Split the data"
   ]
  },
  {
   "cell_type": "code",
   "execution_count": 131,
   "id": "cd5c0208-75b1-47f8-8d86-7c2bb6c72eb6",
   "metadata": {},
   "outputs": [],
   "source": [
    "X_train, X_test, y_train, y_test = train_test_split(X, y, test_size=0.3, random_state=100)"
   ]
  },
  {
   "cell_type": "markdown",
   "id": "3f125bc1-93bf-4e52-8359-5b18c8cb3068",
   "metadata": {},
   "source": [
    "### Scale input set"
   ]
  },
  {
   "cell_type": "code",
   "execution_count": 133,
   "id": "a4dee069-cc1e-4f16-8ec5-2cd82b646014",
   "metadata": {},
   "outputs": [],
   "source": [
    "scaler = preprocessing.StandardScaler()\n",
    "\n",
    "use_scaler = True\n",
    "if use_scaler:\n",
    "    X_train = scaler.fit_transform(X_train)\n",
    "    X_test = scaler.transform(X_test)"
   ]
  },
  {
   "cell_type": "markdown",
   "id": "1521d5cb-a6b5-4fa6-bc30-0a4ee4c67e75",
   "metadata": {},
   "source": [
    "### Train the model and predict on test set"
   ]
  },
  {
   "cell_type": "code",
   "execution_count": 135,
   "id": "4240ad52-0d41-4f28-a43b-ea2fe00c7456",
   "metadata": {},
   "outputs": [],
   "source": [
    "knn = KNeighborsClassifier(n_neighbors=5)\n",
    "knn.fit(X_train, y_train)\n",
    "y_pred = knn.predict(X_test)"
   ]
  },
  {
   "cell_type": "markdown",
   "id": "1c1a12ae-b340-400f-8751-d8b05f6fd6b5",
   "metadata": {},
   "source": [
    "### Evaluate the model\n",
    "Evaluate the predicted model using accuracy of the test_set."
   ]
  },
  {
   "cell_type": "code",
   "execution_count": 137,
   "id": "280d8242-56b3-4a41-8fb8-b226dd7213e5",
   "metadata": {},
   "outputs": [
    {
     "name": "stdout",
     "output_type": "stream",
     "text": [
      "Accuracy: 0.7272727272727273\n"
     ]
    }
   ],
   "source": [
    "accuracy = metrics.accuracy_score(y_test, y_pred)\n",
    "print(\"Accuracy:\", accuracy)"
   ]
  },
  {
   "cell_type": "markdown",
   "id": "ed070744-251c-46ab-bfc8-b9444d582b04",
   "metadata": {},
   "source": [
    "### Confusion matrix\n",
    "Visualize the results using confusion matrix."
   ]
  },
  {
   "cell_type": "code",
   "execution_count": 139,
   "id": "bc5e699c-dc98-4594-84ba-9cc81057fda1",
   "metadata": {},
   "outputs": [
    {
     "data": {
      "image/png": "[encoded data removed]",
      "text/plain": [
       "<Figure size 800x600 with 2 Axes>"
      ]
     },
     "metadata": {},
     "output_type": "display_data"
    }
   ],
   "source": [
    "cnf_matrix = metrics.confusion_matrix(y_test, y_pred)\n",
    "\n",
    "plt.figure(figsize=(8,6))\n",
    "sns.heatmap(cnf_matrix, annot=True, fmt='g', cmap='YlGnBu', xticklabels=knn.classes_, yticklabels=knn.classes_)\n",
    "plt.xlabel(\"Predicted\")\n",
    "plt.ylabel(\"Actual\")\n",
    "plt.title(\"Confusion Matrix\")\n",
    "plt.show()"
   ]
  }
 ],
 "metadata": {
  "kernelspec": {
   "display_name": "Python [conda env:base] *",
   "language": "python",
   "name": "conda-base-py"
  },
  "language_info": {
   "codemirror_mode": {
    "name": "ipython",
    "version": 3
   },
   "file_extension": ".py",
   "mimetype": "text/x-python",
   "name": "python",
   "nbconvert_exporter": "python",
   "pygments_lexer": "ipython3",
   "version": "3.12.7"
  }
 },
 "nbformat": 4,
 "nbformat_minor": 5
}
