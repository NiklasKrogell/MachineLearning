{
 "cells": [
  {
   "cell_type": "markdown",
   "metadata": {},
   "source": [
    "# Counting Rainy Days in Seattle\n",
    "Imagine you have a series of data that represents the amount of precipitation (=amount of rain) each day for a year in a given city. For example, here we'll load the daily rainfall statistics for the city of Seattle in 2014, using Pandas.\n",
    "\n",
    "> Note. In the following data file is located in sub-directory ./data\n",
    "\n",
    "## Part 1\n",
    "Read data in and plot some general info."
   ]
  },
  {
   "cell_type": "code",
   "execution_count": 1,
   "metadata": {},
   "outputs": [
    {
     "name": "stdout",
     "output_type": "stream",
     "text": [
      "STATION,STATION_NAME,DATE,PRCP,SNWD,SNOW,TMAX,TMIN,AWND,WDF2,WDF5,WSF2,WSF5,WT01,WT05,WT02,WT03\n",
      "GHCND:USW00024233,SEATTLE TACOMA INTERNATIONAL AIRPORT WA US,20140101,0,0,0,72,33,12,340,310,36,40,-9999,-9999,-9999,-9999\n",
      "GHCND:USW00024233,SEATTLE TACOMA INTERNATIONAL AIRPORT WA US,20140102,41,0,0,106,61,32,190,200,94,116,-9999,-9999,-9999,-9999\n",
      "GHCND:USW00024233,SEATTLE TACOMA INTERNATIONAL AIRPORT WA US,20140103,15,0,0,89,28,26,30,50,63,72,1,-9999,-9999,-9999\n"
     ]
    }
   ],
   "source": [
    "# TODO: print first 4 lines from the file (check that the file exists)\n",
    "!powershell -Command \"Get-Content data/seattle2014.csv | Select-Object -First 4\""
   ]
  },
  {
   "cell_type": "code",
   "execution_count": 7,
   "metadata": {},
   "outputs": [
    {
     "data": {
      "text/plain": [
       "(365,)"
      ]
     },
     "execution_count": 7,
     "metadata": {},
     "output_type": "execute_result"
    }
   ],
   "source": [
    "import numpy as np\n",
    "import pandas as pd\n",
    "\n",
    "# use pandas to extract rainfall as a NumPy array\n",
    "rainfall = pd.read_csv('data/Seattle2014.csv')['PRCP'].values\n",
    "# TODO: convert mm to inches and print shape (should be 365)\n",
    "rainfall_inches = rainfall * 0.0393701\n",
    "rainfall_inches.shape"
   ]
  },
  {
   "cell_type": "code",
   "execution_count": 11,
   "metadata": {},
   "outputs": [
    {
     "data": {
      "image/png": "[encoded data removed]",
      "text/plain": [
       "<Figure size 640x480 with 1 Axes>"
      ]
     },
     "metadata": {},
     "output_type": "display_data"
    }
   ],
   "source": [
    "%matplotlib inline\n",
    "import matplotlib.pyplot as plt\n",
    "import seaborn; seaborn.set()  # set plot styles\n",
    "\n",
    "# TODO: plot histogram (use 40 bins)\n",
    "plt.hist(rainfall_inches, bins=40)\n",
    "plt.show()"
   ]
  },
  {
   "cell_type": "markdown",
   "metadata": {},
   "source": [
    "This histogram gives us a general idea of what the data looks like: despite its reputation, the vast majority of days in Seattle saw near zero measured rainfall in 2014. But this doesn’t do a good job of conveying some information we’d like to see: for example, \n",
    "\n",
    "- How many rainy days were there in the year? \n",
    "- What is the average precipitation on those rainy days? \n",
    "- How many days were there with more than half an inch of rain?\n",
    "\n",
    "## Part 2\n",
    "Using NumPy boolean operations calculate some statistical info defined."
   ]
  },
  {
   "cell_type": "code",
   "execution_count": 21,
   "metadata": {},
   "outputs": [
    {
     "name": "stdout",
     "output_type": "stream",
     "text": [
      "Nr of rainy days: 150\n",
      "Nr of days without rain: 215\n",
      "Nr of days with more than 0.5 inches rain: 120\n",
      "Nr of days with rain less than 0.2 inches: 23\n"
     ]
    }
   ],
   "source": [
    "# TODO: print statistical info:\n",
    "# - nbr of days with and without rain\n",
    "print(f\"Nr of rainy days: {np.sum(rainfall_inches > 0)}\")\n",
    "print(f\"Nr of days without rain: {np.sum(rainfall_inches == 0)}\")\n",
    "# - nbr of days with more than 0.5 inches rain\n",
    "print(f\"Nr of days with more than 0.5 inches rain: {np.sum(rainfall_inches > 0.5)}\")\n",
    "# - nbr of days with rain less than 0.2 inches\n",
    "print(f\"Nr of days with rain less than 0.2 inches: {np.sum((rainfall_inches > 0) & (rainfall_inches < 0.2))}\")"
   ]
  },
  {
   "cell_type": "code",
   "execution_count": 61,
   "metadata": {},
   "outputs": [
    {
     "name": "stdout",
     "output_type": "stream",
     "text": [
      "Median percip of rainy days 1.9488199499999999\n",
      "Median percip of summer days 0.00\n",
      "Max percip of summer days 8.5039416\n",
      "Max percip of non-summer rainy days 2.0078750999999997\n"
     ]
    }
   ],
   "source": [
    "# TODO: construct mask for rainy days and summer days\n",
    "rainy_mask = (rainfall_inches > 0)\n",
    "summer_mask = (np.arange(1, 366) >= 172) & (np.arange(1, 366) <= 264)\n",
    "# - printout median percip of rainy days\n",
    "print(f\"Median percip of rainy days {np.median(rainfall_inches[rainy_mask])}\")\n",
    "# - printout median percip of summer days\n",
    "print(f\"Median percip of summer days {np.median(rainfall_inches[summer_mask]):.2f}\")\n",
    "# - printout max percip of summer days\n",
    "print(f\"Max percip of summer days {np.max(rainfall_inches[summer_mask])}\")\n",
    "# - printout median percip of non-summer rainy days\n",
    "print(f\"Max percip of non-summer rainy days {np.median(rainfall_inches[rainy_mask & ~summer_mask])}\")"
   ]
  }
 ],
 "metadata": {
  "kernelspec": {
   "display_name": "Python [conda env:base] *",
   "language": "python",
   "name": "conda-base-py"
  },
  "language_info": {
   "codemirror_mode": {
    "name": "ipython",
    "version": 3
   },
   "file_extension": ".py",
   "mimetype": "text/x-python",
   "name": "python",
   "nbconvert_exporter": "python",
   "pygments_lexer": "ipython3",
   "version": "3.12.7"
  }
 },
 "nbformat": 4,
 "nbformat_minor": 4
}
